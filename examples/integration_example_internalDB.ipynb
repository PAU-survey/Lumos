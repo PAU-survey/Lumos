{
 "cells": [
  {
   "cell_type": "code",
   "execution_count": 1,
   "metadata": {},
   "outputs": [],
   "source": [
    "%load_ext autoreload\n",
    "%autoreload 2\n",
    "%matplotlib inline\n",
    "\n",
    "import os\n",
    "import pandas as pd\n",
    "\n",
    "import numpy as np"
   ]
  },
  {
   "cell_type": "code",
   "execution_count": 7,
   "metadata": {},
   "outputs": [],
   "source": [
    "data_dir = '/data/astro/scratch/lcabayol/Flux_estimation/img_NB685'\n",
    "img_fname = 'red_NightlyR11.paucam.13564.0959.0149.FT_NB615_NB685.2470382.std.01.fits'\n",
    "\n",
    "img_path = os.path.join(data_dir, img_fname)\n"
   ]
  },
  {
   "cell_type": "code",
   "execution_count": 8,
   "metadata": {},
   "outputs": [],
   "source": [
    "from astropy.io import fits\n",
    "from sqlalchemy.engine import create_engine\n",
    "from sqlalchemy import *\n",
    "from sqlalchemy.orm import *\n",
    "\n",
    "engine = create_engine('postgresql://readonly@db03.pau.pic.es/dm')\n"
   ]
  },
  {
   "cell_type": "code",
   "execution_count": 9,
   "metadata": {},
   "outputs": [],
   "source": [
    "def DB_query(band,fn):\n",
    "\n",
    "    query = (\"\"\"SELECT fa.ref_id, cm.ra, cm.dec, i.filename, m.exp_num,fa.image_id, cm.r50, cm.sersic_n_gim2d, fa.flux, fa.flux_error, fa.aperture_a, fa.aperture_b, fa.aperture_theta, i.psf_fwhm, i.filter, fa.aperture_x, fa.aperture_y, cm.\"I_auto\" \"\"\"+\n",
    "        \"\"\"FROM mosaic as m \"\"\" +\n",
    "        \"\"\"JOIN image as i ON i.mosaic_id = m.id \"\"\"+\n",
    "        \"\"\"JOIN forced_aperture as fa ON fa.image_id = i.id \"\"\"+\n",
    "        \"\"\"JOIN COSMOS as cm ON cm.paudm_id = fa.ref_id \"\"\" +\n",
    "        \"\"\"WHERE fa.production_id = 948 \"\"\"+\n",
    "        \"\"\"AND cm.\"I_auto\" < 23 \"\"\"+\n",
    "        \"\"\"AND cm.r50 IS NOT NULL \"\"\"+\n",
    "        \"\"\"AND cm.zspec !=0 \"\"\"+\n",
    "        \"\"\"AND i.filter = '%s' \"\"\"%band+\n",
    "        \"\"\"AND sersic_n_gim2d > 0 \"\"\"+\n",
    "        \"\"\"AND r50 > 0 \"\"\"+\n",
    "        \"\"\"AND i.filename = '%s'\"\"\"%fn)\n",
    "    return query\n"
   ]
  },
  {
   "cell_type": "code",
   "execution_count": 10,
   "metadata": {},
   "outputs": [],
   "source": [
    "hdul = fits.open(img_path)\n",
    "img = hdul[0].data\n",
    "band = 'NB685'\n",
    "query = DB_query(band,img_fname)\n",
    "\n",
    "with engine.begin() as conn:\n",
    "    conn.execute(\"SET TRANSACTION ISOLATION LEVEL SERIALIZABLE READ ONLY DEFERRABLE\")\n",
    "    sources = pd.read_sql(query, conn)\n"
   ]
  },
  {
   "cell_type": "code",
   "execution_count": 12,
   "metadata": {},
   "outputs": [],
   "source": [
    "sources = sources.loc[:10].copy()"
   ]
  },
  {
   "cell_type": "code",
   "execution_count": 13,
   "metadata": {},
   "outputs": [
    {
     "name": "stderr",
     "output_type": "stream",
     "text": [
      "/tmp/ipykernel_62/80050286.py:4: DeprecationWarning: `np.int` is a deprecated alias for the builtin `int`. To silence this warning, use `int` by itself. Doing this will not modify any behavior and is safe. When replacing `np.int`, you may wish to use e.g. `np.int64` or `np.int32` to specify the precision. If you wish to review your current use, check the release note link for additional information.\n",
      "Deprecated in NumPy 1.20; for more details and guidance: https://numpy.org/devdocs/release/1.20.0-notes.html#deprecations\n",
      "  sources['interv'] = sources.interv.astype(np.int)\n"
     ]
    }
   ],
   "source": [
    "sources['interv'] = np.zeros(shape = len(sources))\n",
    "sources.interv.where(sources.exp_num < 7582, 1, inplace=True)\n",
    "sources = sources.rename(columns = {'filter':'band'})\n",
    "sources['interv'] = sources.interv.astype(np.int)"
   ]
  },
  {
   "cell_type": "code",
   "execution_count": 14,
   "metadata": {},
   "outputs": [],
   "source": [
    "coords_pix = pd.DataFrame(np.c_[sources.aperture_y, sources.aperture_x], columns = ['x','y'])"
   ]
  },
  {
   "cell_type": "code",
   "execution_count": 15,
   "metadata": {},
   "outputs": [],
   "source": [
    "met = sources[['ref_id','image_id','r50','sersic_n_gim2d','psf_fwhm','aperture_x','aperture_y','aperture_a','aperture_b','I_auto','band','aperture_theta','interv']]"
   ]
  },
  {
   "cell_type": "code",
   "execution_count": 18,
   "metadata": {},
   "outputs": [],
   "source": [
    "import lumos\n",
    "model_path = '/data/astro/scratch/lcabayol/Flux_estimation/models/lumos_after/Lumos_withprof_44.pt'\n",
    "net = lumos.Lumos_net(model_path)\n",
    "\n",
    "\n",
    "\n",
    "#background_img(self, img, coords_pix, metadata)"
   ]
  },
  {
   "cell_type": "code",
   "execution_count": 19,
   "metadata": {},
   "outputs": [
    {
     "name": "stdout",
     "output_type": "stream",
     "text": [
      "NB685_1\n"
     ]
    },
    {
     "name": "stderr",
     "output_type": "stream",
     "text": [
      "/nfs/pic.es/user/l/lcabayol/lumos/lumos/lumos.py:166: SettingWithCopyWarning: \n",
      "A value is trying to be set on a copy of a slice from a DataFrame.\n",
      "Try using .loc[row_indexer,col_indexer] = value instead\n",
      "\n",
      "See the caveats in the documentation: https://pandas.pydata.org/pandas-docs/stable/user_guide/indexing.html#returning-a-view-versus-a-copy\n",
      "  metadata['band_int'] = self._internal_naming(metadata.band.values[0], interv) #*np.ones(shape = len(metadata))\n"
     ]
    }
   ],
   "source": [
    "df_pred = net._photometry_img( img, coords_pix, met) "
   ]
  },
  {
   "cell_type": "code",
   "execution_count": 20,
   "metadata": {},
   "outputs": [],
   "source": [
    "df_pred['ref_id'] = met.ref_id\n",
    "df_pred['image_id'] = met.image_id"
   ]
  },
  {
   "cell_type": "code",
   "execution_count": 21,
   "metadata": {},
   "outputs": [],
   "source": [
    "df_pred['band'] = met.band"
   ]
  },
  {
   "cell_type": "code",
   "execution_count": 35,
   "metadata": {},
   "outputs": [],
   "source": [
    "alpha_keys = ['a1','a2','a3','a4','a5']\n",
    "flux_keys = ['f1','f2','f3','f4','f5']\n",
    "sigma_keys = ['e1','e2','e3','e4','e5']"
   ]
  },
  {
   "cell_type": "code",
   "execution_count": 43,
   "metadata": {},
   "outputs": [],
   "source": [
    "import lumos.lumos_fluxmeasurements as lumos_fluxmeasurements"
   ]
  },
  {
   "cell_type": "code",
   "execution_count": 44,
   "metadata": {},
   "outputs": [],
   "source": [
    "df_pred_clear, alphas, fluxes, sigmas = lumos_fluxmeasurements.clear_catalogue(cat = df_pred, alpha_keys = alpha_keys, flux_keys=flux_keys , sigma_keys= sigma_keys)"
   ]
  },
  {
   "cell_type": "code",
   "execution_count": 45,
   "metadata": {},
   "outputs": [],
   "source": [
    "cat_single_observations = lumos_fluxmeasurements.single_exposures_flux(alphas, fluxes, sigmas)"
   ]
  },
  {
   "cell_type": "code",
   "execution_count": 47,
   "metadata": {},
   "outputs": [],
   "source": [
    "query = f\"\"\"\n",
    "    SELECT izp.image_id, izp.zp,izp.zp_error, izp.calib_method\n",
    "    FROM image_zp as izp\n",
    "    WHERE izp.phot_method_id = 2\n",
    "    AND izp.calib_method = 'MBE2.1_xsl'\n",
    "    \"\"\"\n",
    "#    AND fa.flag = 0\n",
    "\n",
    "with engine.begin() as conn:\n",
    "    conn.execute(\"SET TRANSACTION ISOLATION LEVEL SERIALIZABLE READ ONLY DEFERRABLE\")\n",
    "    izp = pd.read_sql(query, conn)\n"
   ]
  },
  {
   "cell_type": "code",
   "execution_count": 48,
   "metadata": {},
   "outputs": [],
   "source": [
    "df_pred_clear_calib = df_pred_clear.merge(izp, on = 'image_id')"
   ]
  },
  {
   "cell_type": "code",
   "execution_count": null,
   "metadata": {},
   "outputs": [],
   "source": []
  },
  {
   "cell_type": "code",
   "execution_count": 58,
   "metadata": {},
   "outputs": [],
   "source": [
    "import lumos.lumos_fluxmeasurements as lumos_fluxmeasurements"
   ]
  },
  {
   "cell_type": "code",
   "execution_count": 59,
   "metadata": {},
   "outputs": [
    {
     "name": "stderr",
     "output_type": "stream",
     "text": [
      "/nfs/pic.es/user/l/lcabayol/lumos/lumos/lumos_fluxmeasurements.py:105: FutureWarning: In a future version of pandas all arguments of concat except for the argument 'objs' will be keyword-only\n",
      "  cat_coadds = pd.concat((cat_coadds,sub),0)\n"
     ]
    }
   ],
   "source": [
    "cat_coadds = lumos_fluxmeasurements.coadds_flux_measurements(df_pred_clear_calib,alpha_keys,flux_keys,sigma_keys)"
   ]
  },
  {
   "cell_type": "code",
   "execution_count": 60,
   "metadata": {},
   "outputs": [
    {
     "data": {
      "text/html": [
       "<div>\n",
       "<style scoped>\n",
       "    .dataframe tbody tr th:only-of-type {\n",
       "        vertical-align: middle;\n",
       "    }\n",
       "\n",
       "    .dataframe tbody tr th {\n",
       "        vertical-align: top;\n",
       "    }\n",
       "\n",
       "    .dataframe thead th {\n",
       "        text-align: right;\n",
       "    }\n",
       "</style>\n",
       "<table border=\"1\" class=\"dataframe\">\n",
       "  <thead>\n",
       "    <tr style=\"text-align: right;\">\n",
       "      <th></th>\n",
       "      <th>ref_id</th>\n",
       "      <th>band</th>\n",
       "      <th>flux</th>\n",
       "      <th>flux_error</th>\n",
       "    </tr>\n",
       "  </thead>\n",
       "  <tbody>\n",
       "    <tr>\n",
       "      <th>0</th>\n",
       "      <td>40366.0</td>\n",
       "      <td>NB685</td>\n",
       "      <td>18.4</td>\n",
       "      <td>8.18</td>\n",
       "    </tr>\n",
       "    <tr>\n",
       "      <th>0</th>\n",
       "      <td>40548.0</td>\n",
       "      <td>NB685</td>\n",
       "      <td>45.0</td>\n",
       "      <td>12.8</td>\n",
       "    </tr>\n",
       "    <tr>\n",
       "      <th>0</th>\n",
       "      <td>40253.0</td>\n",
       "      <td>NB685</td>\n",
       "      <td>57.0</td>\n",
       "      <td>14.8</td>\n",
       "    </tr>\n",
       "    <tr>\n",
       "      <th>0</th>\n",
       "      <td>40710.0</td>\n",
       "      <td>NB685</td>\n",
       "      <td>51.5</td>\n",
       "      <td>14.95</td>\n",
       "    </tr>\n",
       "    <tr>\n",
       "      <th>0</th>\n",
       "      <td>40874.0</td>\n",
       "      <td>NB685</td>\n",
       "      <td>9.17</td>\n",
       "      <td>3.995</td>\n",
       "    </tr>\n",
       "    <tr>\n",
       "      <th>0</th>\n",
       "      <td>40711.0</td>\n",
       "      <td>NB685</td>\n",
       "      <td>560.9</td>\n",
       "      <td>32.65</td>\n",
       "    </tr>\n",
       "    <tr>\n",
       "      <th>0</th>\n",
       "      <td>39756.0</td>\n",
       "      <td>NB685</td>\n",
       "      <td>46.0</td>\n",
       "      <td>15.25</td>\n",
       "    </tr>\n",
       "    <tr>\n",
       "      <th>0</th>\n",
       "      <td>39922.0</td>\n",
       "      <td>NB685</td>\n",
       "      <td>69.6</td>\n",
       "      <td>14.4</td>\n",
       "    </tr>\n",
       "    <tr>\n",
       "      <th>0</th>\n",
       "      <td>56754.0</td>\n",
       "      <td>NB685</td>\n",
       "      <td>29.9</td>\n",
       "      <td>14.815</td>\n",
       "    </tr>\n",
       "    <tr>\n",
       "      <th>0</th>\n",
       "      <td>40001.0</td>\n",
       "      <td>NB685</td>\n",
       "      <td>24.7</td>\n",
       "      <td>12.68</td>\n",
       "    </tr>\n",
       "    <tr>\n",
       "      <th>0</th>\n",
       "      <td>39996.0</td>\n",
       "      <td>NB685</td>\n",
       "      <td>34.3</td>\n",
       "      <td>18.13</td>\n",
       "    </tr>\n",
       "  </tbody>\n",
       "</table>\n",
       "</div>"
      ],
      "text/plain": [
       "    ref_id   band   flux flux_error\n",
       "0  40366.0  NB685   18.4       8.18\n",
       "0  40548.0  NB685   45.0       12.8\n",
       "0  40253.0  NB685   57.0       14.8\n",
       "0  40710.0  NB685   51.5      14.95\n",
       "0  40874.0  NB685   9.17      3.995\n",
       "0  40711.0  NB685  560.9      32.65\n",
       "0  39756.0  NB685   46.0      15.25\n",
       "0  39922.0  NB685   69.6       14.4\n",
       "0  56754.0  NB685   29.9     14.815\n",
       "0  40001.0  NB685   24.7      12.68\n",
       "0  39996.0  NB685   34.3      18.13"
      ]
     },
     "execution_count": 60,
     "metadata": {},
     "output_type": "execute_result"
    }
   ],
   "source": [
    "cat_coadds"
   ]
  }
 ],
 "metadata": {
  "kernelspec": {
   "display_name": "DLenv2",
   "language": "python",
   "name": "dlenv2"
  },
  "language_info": {
   "codemirror_mode": {
    "name": "ipython",
    "version": 3
   },
   "file_extension": ".py",
   "mimetype": "text/x-python",
   "name": "python",
   "nbconvert_exporter": "python",
   "pygments_lexer": "ipython3",
   "version": "3.9.7"
  }
 },
 "nbformat": 4,
 "nbformat_minor": 4
}
